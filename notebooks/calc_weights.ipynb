{
 "cells": [
  {
   "cell_type": "code",
   "execution_count": 2,
   "metadata": {},
   "outputs": [],
   "source": [
    "%load_ext autoreload\n",
    "%autoreload 2\n",
    "import sys\n",
    "sys.path.append(\"..\")\n",
    "\n",
    "from src.dataset import get_load_data\n",
    "import torch\n",
    "import numpy as np\n",
    "\n",
    "train, test = get_load_data(root = \"../../data\", dataset = \"VOCSegmentation\", download = False)  \n"
   ]
  },
  {
   "cell_type": "code",
   "execution_count": 16,
   "metadata": {},
   "outputs": [],
   "source": [
    "instances = []\n",
    "for i in range(len(train)):\n",
    "    to_extend = train[i][1]\n",
    "    to_extend *= 255\n",
    "    instances.extend(to_extend.type(torch.int8).flatten().tolist())\n",
    "\n",
    "instances = np.array(instances)"
   ]
  },
  {
   "cell_type": "code",
   "execution_count": 17,
   "metadata": {},
   "outputs": [],
   "source": [
    "counts = []\n",
    "for i in range(-1, 22):\n",
    "    counts.append(np.count_nonzero(instances == i))\n",
    "counts = np.array(counts)"
   ]
  },
  {
   "cell_type": "code",
   "execution_count": 20,
   "metadata": {},
   "outputs": [
    {
     "data": {
      "text/plain": [
       "array([ 12087195, 152973487,   1551679,    622004,   1813186,   1292468,\n",
       "         1269740,   3723798,   3002684,   5644964,   2415350,   1769703,\n",
       "         2743674,   3549744,   1954021,   2390371,  10080969,   1363117,\n",
       "         1864251,   3041188,   3344579,   1898244,         0])"
      ]
     },
     "execution_count": 20,
     "metadata": {},
     "output_type": "execute_result"
    }
   ],
   "source": [
    "counts"
   ]
  },
  {
   "cell_type": "code",
   "execution_count": 18,
   "metadata": {},
   "outputs": [
    {
     "data": {
      "text/plain": [
       "array([0.05484297, 0.69408337, 0.0070404 , 0.00282221, 0.00822693,\n",
       "       0.00586429, 0.00576116, 0.01689591, 0.01362401, 0.02561278,\n",
       "       0.01095912, 0.00802964, 0.01244881, 0.01610618, 0.00886594,\n",
       "       0.01084578, 0.04574017, 0.00618484, 0.00845863, 0.01379872,\n",
       "       0.01517529, 0.00861286, 0.        ])"
      ]
     },
     "execution_count": 18,
     "metadata": {},
     "output_type": "execute_result"
    }
   ],
   "source": [
    "counts / counts.sum()"
   ]
  }
 ],
 "metadata": {
  "kernelspec": {
   "display_name": "pytorch-gpu",
   "language": "python",
   "name": "python3"
  },
  "language_info": {
   "codemirror_mode": {
    "name": "ipython",
    "version": 3
   },
   "file_extension": ".py",
   "mimetype": "text/x-python",
   "name": "python",
   "nbconvert_exporter": "python",
   "pygments_lexer": "ipython3",
   "version": "3.8.18"
  },
  "orig_nbformat": 4
 },
 "nbformat": 4,
 "nbformat_minor": 2
}
