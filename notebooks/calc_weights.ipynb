{
 "cells": [
  {
   "cell_type": "code",
   "execution_count": 1,
   "metadata": {},
   "outputs": [],
   "source": [
    "%load_ext autoreload\n",
    "%autoreload 2\n",
    "import sys\n",
    "sys.path.append(\"..\")\n",
    "\n",
    "from src.dataset import get_load_data\n",
    "import torch\n",
    "import numpy as np\n",
    "\n",
    "train, test = get_load_data(root = \"../../data\", dataset = \"VOCSegmentation\", download = False)  \n"
   ]
  },
  {
   "cell_type": "code",
   "execution_count": 2,
   "metadata": {},
   "outputs": [],
   "source": [
    "instances = []\n",
    "for i in range(len(train)):\n",
    "    to_extend = train[i][1]\n",
    "    to_extend *= 255\n",
    "    instances.extend(to_extend.type(torch.int8).flatten().tolist())\n",
    "\n",
    "instances = np.array(instances)\n",
    "instances = np.where(instances == -1, 0, instances)"
   ]
  },
  {
   "cell_type": "code",
   "execution_count": 7,
   "metadata": {},
   "outputs": [],
   "source": [
    "counts = []\n",
    "for i in range(21):\n",
    "    counts.append(np.count_nonzero(instances == i))\n",
    "counts = np.array(counts)"
   ]
  },
  {
   "cell_type": "code",
   "execution_count": 10,
   "metadata": {},
   "outputs": [
    {
     "data": {
      "text/plain": [
       "array([  1.33524479, 142.03737758, 354.33279529, 121.55201728,\n",
       "       170.52369266, 173.57602029,  59.18592147,  73.39980364,\n",
       "        39.04301533,  91.24823152, 124.53864632,  80.32893704,\n",
       "        62.08797479, 112.79122179,  92.20176115,  21.86262213,\n",
       "       161.68561906, 118.22250115,  72.47050034,  65.89660941,\n",
       "       116.10541954])"
      ]
     },
     "execution_count": 10,
     "metadata": {},
     "output_type": "execute_result"
    }
   ],
   "source": [
    "weights = 1/ (counts / counts.sum())\n",
    "weights"
   ]
  }
 ],
 "metadata": {
  "kernelspec": {
   "display_name": "pytorch-gpu",
   "language": "python",
   "name": "python3"
  },
  "language_info": {
   "codemirror_mode": {
    "name": "ipython",
    "version": 3
   },
   "file_extension": ".py",
   "mimetype": "text/x-python",
   "name": "python",
   "nbconvert_exporter": "python",
   "pygments_lexer": "ipython3",
   "version": "3.8.18"
  },
  "orig_nbformat": 4
 },
 "nbformat": 4,
 "nbformat_minor": 2
}
