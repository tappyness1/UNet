{
 "cells": [
  {
   "cell_type": "code",
   "execution_count": 1,
   "metadata": {},
   "outputs": [],
   "source": [
    "%load_ext autoreload\n",
    "%autoreload 2\n",
    "import sys\n",
    "sys.path.append(\"..\")\n",
    "\n",
    "from src.model import UNet\n",
    "from src.dataset import get_load_data\n",
    "from torch.utils.data import DataLoader\n",
    "from src.predict import predict\n",
    "import torch\n",
    "import numpy as np\n",
    "import torch.nn.functional as F"
   ]
  },
  {
   "cell_type": "code",
   "execution_count": 2,
   "metadata": {},
   "outputs": [],
   "source": [
    "unet_model = UNet(num_classes=21)\n",
    "train, test = get_load_data(root = \"../../data\", dataset = \"VOCSegmentation\", download = False)  \n",
    "test_set = DataLoader(test, batch_size=1)\n",
    "\n",
    "trained_model_path = \"../model_weights/model_weights.pt\"\n",
    "device = 'cuda' if torch.cuda.is_available() else 'cpu'\n",
    "model = torch.load(trained_model_path, map_location=torch.device(device))\n",
    "model.eval()\n",
    "imgs, smnts = next(iter(test_set))\n",
    "imgs, smnts = imgs.to(device), smnts.to(device)\n",
    "preds = model(imgs)"
   ]
  },
  {
   "cell_type": "code",
   "execution_count": 4,
   "metadata": {},
   "outputs": [],
   "source": [
    "smnts = (smnts * 255).type(torch.int64)\n",
    "preds = preds.argmax(dim=1).type(torch.int64)\n"
   ]
  },
  {
   "cell_type": "code",
   "execution_count": 5,
   "metadata": {},
   "outputs": [],
   "source": [
    "preds = F.one_hot(preds, 21).float()\n",
    "smnts = F.one_hot(smnts, 21).float()"
   ]
  },
  {
   "cell_type": "code",
   "execution_count": 6,
   "metadata": {},
   "outputs": [],
   "source": [
    "preds = preds.permute(0, 3, 1, 2)\n",
    "smnts = smnts.squeeze(0).permute(0, 3, 1, 2)"
   ]
  },
  {
   "cell_type": "code",
   "execution_count": 7,
   "metadata": {},
   "outputs": [],
   "source": [
    "preds = preds.squeeze(0)\n",
    "smnts = smnts.squeeze(0)"
   ]
  }
 ],
 "metadata": {
  "kernelspec": {
   "display_name": "pytorch-cpu",
   "language": "python",
   "name": "python3"
  },
  "language_info": {
   "codemirror_mode": {
    "name": "ipython",
    "version": 3
   },
   "file_extension": ".py",
   "mimetype": "text/x-python",
   "name": "python",
   "nbconvert_exporter": "python",
   "pygments_lexer": "ipython3",
   "version": "3.8.18"
  },
  "orig_nbformat": 4
 },
 "nbformat": 4,
 "nbformat_minor": 2
}
