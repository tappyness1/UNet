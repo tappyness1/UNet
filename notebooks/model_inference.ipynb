{
 "cells": [
  {
   "cell_type": "code",
   "execution_count": null,
   "metadata": {},
   "outputs": [],
   "source": [
    "%load_ext autoreload\n",
    "%autoreload 2\n",
    "import sys\n",
    "sys.path.append(\"..\")\n",
    "\n",
    "from src.model import UNet\n",
    "from src.dataset import get_load_data\n",
    "from torch.utils.data import DataLoader\n",
    "from src.predict import predict"
   ]
  },
  {
   "cell_type": "code",
   "execution_count": null,
   "metadata": {},
   "outputs": [],
   "source": [
    "unet_model = UNet(num_classes=21)\n",
    "train, test = get_load_data(root = \"../../data\", dataset = \"VOCSegmentation\", download = False)  \n",
    "train_set = DataLoader(train, batch_size=4)\n",
    "\n",
    "import torch\n",
    "import numpy as np\n",
    "# img, smnt = train[0]\n",
    "# img = img.reshape(1, 3, 572, 572)\n",
    "# smnt = smnt.resize((388, 388))\n",
    "# smnt = torch.tensor(np.asarray(smnt), dtype = torch.float32).reshape(1, 1, 388, 388)\n",
    "imgs, smnts = next(iter(train_set))\n",
    "pred = unet_model(imgs)\n",
    "loss = energy_loss(pred, smnts)\n",
    "loss.backward() "
   ]
  }
 ],
 "metadata": {
  "language_info": {
   "name": "python"
  }
 },
 "nbformat": 4,
 "nbformat_minor": 2
}
