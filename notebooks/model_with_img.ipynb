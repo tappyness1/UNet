{
 "cells": [
  {
   "cell_type": "code",
   "execution_count": 1,
   "metadata": {},
   "outputs": [],
   "source": [
    "%load_ext autoreload\n",
    "%autoreload 2\n",
    "import sys\n",
    "sys.path.append(\"..\")\n",
    "\n",
    "from src.model import UNet\n",
    "from src.dataset import get_load_data\n",
    "from src.loss_function import one_hot_encode\n",
    "from torch.utils.data import DataLoader\n",
    "from src.loss_function import energy_loss\n",
    "from src.loss_function import dice_loss\n",
    "from src.constants import weights\n",
    "import torch.nn.functional as F\n",
    "import torch"
   ]
  },
  {
   "cell_type": "code",
   "execution_count": 2,
   "metadata": {},
   "outputs": [],
   "source": [
    "unet_model = UNet(num_classes=21)\n",
    "train, test = get_load_data(root = \"../../data\", dataset = \"VOCSegmentation\", download = False)  \n",
    "train_loader = DataLoader(train, batch_size=4)\n",
    "imgs, smnts = next(iter(train_loader))\n",
    "device = torch.device(\"cuda\" if torch.cuda.is_available() else \"cpu\")\n",
    "imgs = imgs.to(device)\n",
    "smnts = smnts.to(device)\n",
    "weights = weights.to(device)\n",
    "unet_model = unet_model.to(device)"
   ]
  },
  {
   "cell_type": "code",
   "execution_count": 3,
   "metadata": {},
   "outputs": [],
   "source": [
    "import torch\n",
    "import numpy as np\n",
    "\n",
    "# img, smnt = train[0]\n",
    "# img = img.reshape(1, 3, 572, 572)\n",
    "# smnt = smnt.resize((388, 388))\n",
    "# smnt = torch.tensor(np.asarray(smnt), dtype = torch.float32).reshape(1, 1, 388, 388)\n",
    "\n",
    "pred = unet_model(imgs)\n",
    "smnts_dice = smnts* 255\n",
    "smnts_dice = torch.where(smnts_dice == 255, 0, smnts_dice)\n",
    "e_loss = energy_loss(pred, smnts, weight = weights)\n",
    "e_loss.backward()"
   ]
  },
  {
   "cell_type": "code",
   "execution_count": 5,
   "metadata": {},
   "outputs": [],
   "source": [
    "pred = unet_model(imgs)\n",
    "\n",
    "# have to do the few lines below because reasons\n",
    "smnts_dice = smnts* 255\n",
    "smnts_dice = torch.where(smnts_dice == 255, 0, smnts_dice)\n",
    "\n",
    "d_loss = dice_loss(pred, smnts_dice, multiclass= True)\n",
    "d_loss.backward()"
   ]
  },
  {
   "cell_type": "code",
   "execution_count": 6,
   "metadata": {},
   "outputs": [
    {
     "data": {
      "text/plain": [
       "tensor(0.9819, device='cuda:0', grad_fn=<RsubBackward1>)"
      ]
     },
     "execution_count": 6,
     "metadata": {},
     "output_type": "execute_result"
    }
   ],
   "source": [
    "d_loss"
   ]
  }
 ],
 "metadata": {
  "kernelspec": {
   "display_name": "pytorch-cpu",
   "language": "python",
   "name": "python3"
  },
  "language_info": {
   "codemirror_mode": {
    "name": "ipython",
    "version": 3
   },
   "file_extension": ".py",
   "mimetype": "text/x-python",
   "name": "python",
   "nbconvert_exporter": "python",
   "pygments_lexer": "ipython3",
   "version": "3.8.18"
  },
  "orig_nbformat": 4
 },
 "nbformat": 4,
 "nbformat_minor": 2
}
