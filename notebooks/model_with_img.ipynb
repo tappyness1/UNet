{
 "cells": [
  {
   "cell_type": "code",
   "execution_count": 31,
   "metadata": {},
   "outputs": [
    {
     "name": "stdout",
     "output_type": "stream",
     "text": [
      "The autoreload extension is already loaded. To reload it, use:\n",
      "  %reload_ext autoreload\n"
     ]
    }
   ],
   "source": [
    "%load_ext autoreload\n",
    "%autoreload 2\n",
    "import sys\n",
    "sys.path.append(\"..\")\n",
    "\n",
    "from src.model import UNet\n",
    "from src.dataset import get_load_data\n",
    "from src.loss_function import one_hot_encode\n",
    "from torch.utils.data import DataLoader\n",
    "from src.loss_function import energy_loss\n"
   ]
  },
  {
   "cell_type": "code",
   "execution_count": 46,
   "metadata": {},
   "outputs": [],
   "source": [
    "unet_model = UNet(num_classes=21)\n",
    "train, test = get_load_data(root = \"../../data\", dataset = \"VOCSegmentation\", download = False)  \n",
    "train_set = DataLoader(train, batch_size=4)"
   ]
  },
  {
   "cell_type": "code",
   "execution_count": 49,
   "metadata": {},
   "outputs": [],
   "source": [
    "import torch\n",
    "import numpy as np\n",
    "# img, smnt = train[0]\n",
    "# img = img.reshape(1, 3, 572, 572)\n",
    "# smnt = smnt.resize((388, 388))\n",
    "# smnt = torch.tensor(np.asarray(smnt), dtype = torch.float32).reshape(1, 1, 388, 388)\n",
    "imgs, smnts = next(iter(train_set))\n",
    "pred = unet_model(imgs)\n",
    "loss = energy_loss(pred, smnts)\n",
    "loss.backward()"
   ]
  },
  {
   "cell_type": "code",
   "execution_count": 58,
   "metadata": {},
   "outputs": [],
   "source": [
    "# # not sure what to do with this thing for now\n",
    "# pred_argmax = pred.argmax(dim = 1) + 1\n",
    "# pred_argmax = pred_argmax.type(torch.float32)"
   ]
  }
 ],
 "metadata": {
  "kernelspec": {
   "display_name": "pytorch-cpu",
   "language": "python",
   "name": "python3"
  },
  "language_info": {
   "codemirror_mode": {
    "name": "ipython",
    "version": 3
   },
   "file_extension": ".py",
   "mimetype": "text/x-python",
   "name": "python",
   "nbconvert_exporter": "python",
   "pygments_lexer": "ipython3",
   "version": "3.9.18"
  },
  "orig_nbformat": 4
 },
 "nbformat": 4,
 "nbformat_minor": 2
}
